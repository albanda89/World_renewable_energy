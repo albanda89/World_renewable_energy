{
 "cells": [
  {
   "cell_type": "markdown",
   "id": "82df986a",
   "metadata": {},
   "source": [
    "#  6.3 Geographical Visualization "
   ]
  },
  {
   "cell_type": "markdown",
   "id": "4f626446",
   "metadata": {},
   "source": [
    "## Content "
   ]
  },
  {
   "cell_type": "markdown",
   "id": "80e3f105",
   "metadata": {},
   "source": [
    "### 1. Import data and libraries\n",
    "\n",
    "### 2. Data wrangling\n",
    "\n",
    "### 3. Data cleaning\n",
    "\n",
    "### 4. Plotting a choropleth"
   ]
  },
  {
   "cell_type": "markdown",
   "id": "4a692551",
   "metadata": {},
   "source": [
    "#### 1. Import data and libraries"
   ]
  },
  {
   "cell_type": "code",
   "execution_count": null,
   "id": "9335b8fa",
   "metadata": {},
   "outputs": [],
   "source": [
    "import pandas as pd\n",
    "import numpy as np\n",
    "import seaborn as sns\n",
    "import matplotlib\n",
    "import os\n",
    "import folium\n",
    "import json\n",
    "import matplotlib.pyplot as plt"
   ]
  },
  {
   "cell_type": "code",
   "execution_count": null,
   "id": "eedc0b72",
   "metadata": {},
   "outputs": [],
   "source": [
    "# This command propts matplotlib visuals to appear in the notebook \n",
    "\n",
    "%matplotlib inline"
   ]
  },
  {
   "cell_type": "code",
   "execution_count": null,
   "id": "920a1f1e",
   "metadata": {},
   "outputs": [],
   "source": [
    "# Import \".geojson\" file for the world data set :\n",
    "\n",
    "country_geo= r'/Users/arunibandara/Documents/Achievenemt 6.1/02 Data/original_data/countries.geojson'"
   ]
  },
  {
   "cell_type": "code",
   "execution_count": null,
   "id": "0a58858b",
   "metadata": {},
   "outputs": [],
   "source": [
    "country_geo"
   ]
  },
  {
   "cell_type": "code",
   "execution_count": null,
   "id": "48d28543",
   "metadata": {},
   "outputs": [],
   "source": [
    "import json\n",
    "\n",
    "f = open(r'/Users/arunibandara/Documents/Achievenemt 6.1/02 Data/original_data/countries.geojson')\n",
    "\n",
    "# returns JSON object as a dictionary\n",
    "data = json.load(f)\n",
    "\n",
    "# Iterating through the json list\n",
    "for feature in data['features']:\n",
    "    properties = feature['properties']\n",
    "    print(properties)"
   ]
  },
  {
   "cell_type": "code",
   "execution_count": null,
   "id": "583405ec",
   "metadata": {},
   "outputs": [],
   "source": [
    "path = r'/Users/arunibandara/Documents/Achievenemt 6.1'"
   ]
  },
  {
   "cell_type": "code",
   "execution_count": null,
   "id": "06c8cd8a",
   "metadata": {},
   "outputs": [],
   "source": [
    "path"
   ]
  },
  {
   "cell_type": "code",
   "execution_count": null,
   "id": "f6442ca4",
   "metadata": {},
   "outputs": [],
   "source": [
    "# Import the RenE_c2_wn dataset\n",
    "\n",
    "df_REfinal = pd.read_csv(os.path.join(path, '02 Data','prepared_data', 'RenE_c2_wn.csv'))"
   ]
  },
  {
   "cell_type": "code",
   "execution_count": null,
   "id": "a47fba56",
   "metadata": {},
   "outputs": [],
   "source": [
    "df_REfinal.head()"
   ]
  },
  {
   "cell_type": "code",
   "execution_count": null,
   "id": "fda0ee13",
   "metadata": {},
   "outputs": [],
   "source": [
    "# Renaming Columns done \n",
    "# Rearranging dataframe columns from a list of column names\n",
    "\n",
    "cols= ['Country Name', 'Country Code', 'Time', 'Time Code','Access_Electracity(%)-Rural_P','Access_Electracity(%)-Urban_P',\n",
    "       'Access_Electracity(%)-Total_P','RenewableEOutput(gwh)', 'Total_Electracity_output(gwh)','RenewableE/TotalE(%)',\n",
    "       'RenewableE_consumption(TJ)','Total_final_E_consumption(TFEC)', 'Renewable_E/TFEC(%)']\n",
    "\n",
    "df_REfinal_A = df_REfinal[cols]\n",
    "\n",
    "df_REfinal_A.head(5)"
   ]
  },
  {
   "cell_type": "code",
   "execution_count": null,
   "id": "b124a47a",
   "metadata": {},
   "outputs": [],
   "source": [
    "df_REfinal_A.shape"
   ]
  },
  {
   "cell_type": "code",
   "execution_count": null,
   "id": "ab41a659",
   "metadata": {},
   "outputs": [],
   "source": [
    "df_REfinal_A.columns"
   ]
  },
  {
   "cell_type": "code",
   "execution_count": null,
   "id": "1a641b8a",
   "metadata": {},
   "outputs": [],
   "source": [
    "# cheaking for mixed types \n",
    "\n",
    "for col in df_REfinal_A.columns.tolist():\n",
    "  weird = (df_REfinal_A[[col]].applymap(type) != df_REfinal_A[[col]].iloc[0].apply(type)).any(axis = 1)\n",
    "  if len (df_REfinal_A[weird]) > 0:\n",
    "    print (col)"
   ]
  },
  {
   "cell_type": "code",
   "execution_count": null,
   "id": "31d47f80",
   "metadata": {},
   "outputs": [],
   "source": [
    "for column in df_REfinal_A.columns:\n",
    "    print(pd.api.types.infer_dtype(df_REfinal_A[column]))"
   ]
  },
  {
   "cell_type": "code",
   "execution_count": null,
   "id": "86ae97b8",
   "metadata": {},
   "outputs": [],
   "source": [
    "# No indication of mixed data type"
   ]
  },
  {
   "cell_type": "markdown",
   "id": "079fe52f",
   "metadata": {},
   "source": [
    "## Data wrangling "
   ]
  },
  {
   "cell_type": "code",
   "execution_count": null,
   "id": "1f40347d",
   "metadata": {},
   "outputs": [],
   "source": [
    "# select only the necessary columns and put them in a list called columns\n",
    "columns = ['Country Name','Time','Access_Electracity(%)-Rural_P', 'Access_Electracity(%)-Urban_P',\n",
    "       'Access_Electracity(%)-Total_P', 'RenewableEOutput(gwh)','Total_Electracity_output(gwh)', 'RenewableE/TotalE(%)',\n",
    "       'RenewableE_consumption(TJ)', 'Total_final_E_consumption(TFEC)','Renewable_E/TFEC(%)']"
   ]
  },
  {
   "cell_type": "code",
   "execution_count": null,
   "id": "eee5898e",
   "metadata": {},
   "outputs": [],
   "source": [
    "# create a subset\n",
    "\n",
    "Country_sub_rec = df_REfinal_A[columns]"
   ]
  },
  {
   "cell_type": "code",
   "execution_count": null,
   "id": "733fca4a",
   "metadata": {},
   "outputs": [],
   "source": [
    "Country_sub_rec.head(5)"
   ]
  },
  {
   "cell_type": "markdown",
   "id": "cfb570f6",
   "metadata": {},
   "source": [
    "## 3. Data consistency check"
   ]
  },
  {
   "cell_type": "code",
   "execution_count": null,
   "id": "e1829aed",
   "metadata": {},
   "outputs": [],
   "source": [
    "#check for missing values\n",
    "\n",
    "Country_sub_rec.isnull().sum()"
   ]
  },
  {
   "cell_type": "code",
   "execution_count": null,
   "id": "f471ba93",
   "metadata": {},
   "outputs": [],
   "source": [
    "# No indication of missing values "
   ]
  },
  {
   "cell_type": "code",
   "execution_count": null,
   "id": "93edb638",
   "metadata": {},
   "outputs": [],
   "source": [
    "#check for duplicates checks\n",
    "\n",
    "dups = Country_sub_rec.duplicated()"
   ]
  },
  {
   "cell_type": "code",
   "execution_count": null,
   "id": "fa8545d0",
   "metadata": {},
   "outputs": [],
   "source": [
    "dups.shape"
   ]
  },
  {
   "cell_type": "code",
   "execution_count": null,
   "id": "d8003c15",
   "metadata": {},
   "outputs": [],
   "source": [
    "# No indication of duplicates "
   ]
  },
  {
   "cell_type": "code",
   "execution_count": null,
   "id": "f8335e7a",
   "metadata": {},
   "outputs": [],
   "source": [
    "#extreme values checks:statistics \n",
    "\n",
    "Country_sub_rec.describe()"
   ]
  },
  {
   "cell_type": "code",
   "execution_count": null,
   "id": "3849e79a",
   "metadata": {},
   "outputs": [],
   "source": [
    "#extreme values checks\n",
    "\n",
    "sns.histplot(Country_sub_rec['Access_Electracity(%)-Rural_P'], bins=10, kde = True)"
   ]
  },
  {
   "cell_type": "code",
   "execution_count": null,
   "id": "9930a654",
   "metadata": {},
   "outputs": [],
   "source": []
  },
  {
   "cell_type": "code",
   "execution_count": null,
   "id": "e9b64534",
   "metadata": {},
   "outputs": [],
   "source": [
    "sns.histplot(Country_sub_rec['Access_Electracity(%)-Urban_P'], bins=10, kde = True)"
   ]
  },
  {
   "cell_type": "code",
   "execution_count": null,
   "id": "be9dbf60",
   "metadata": {},
   "outputs": [],
   "source": []
  },
  {
   "cell_type": "code",
   "execution_count": null,
   "id": "ee939f6b",
   "metadata": {},
   "outputs": [],
   "source": [
    "sns.histplot(Country_sub_rec['Access_Electracity(%)-Total_P'], bins=10, kde = True)"
   ]
  },
  {
   "cell_type": "code",
   "execution_count": null,
   "id": "34b2db29",
   "metadata": {},
   "outputs": [],
   "source": [
    "sns.histplot(Country_sub_rec['RenewableEOutput(gwh)'], bins=10, kde = True)"
   ]
  },
  {
   "cell_type": "code",
   "execution_count": null,
   "id": "5a25692c",
   "metadata": {},
   "outputs": [],
   "source": [
    "# Transform by Square Root Transform(ref: https://towardsdatascience.com/top-3-methods-for-handling-skewed-data-1334e0debf45) )\n",
    "\n",
    "RE_out_sqrt =np.sqrt(Country_sub_rec['RenewableEOutput(gwh)'])\n",
    "\n",
    "RE_out_sqrt.skew()"
   ]
  },
  {
   "cell_type": "code",
   "execution_count": null,
   "id": "ab48411f",
   "metadata": {},
   "outputs": [],
   "source": [
    "sns.histplot((RE_out_sqrt), bins=10, kde = True)"
   ]
  },
  {
   "cell_type": "code",
   "execution_count": null,
   "id": "31df0da3",
   "metadata": {},
   "outputs": [],
   "source": [
    "sns.histplot(Country_sub_rec['Total_Electracity_output(gwh)'], bins=10, kde = True)"
   ]
  },
  {
   "cell_type": "code",
   "execution_count": null,
   "id": "87a37db7",
   "metadata": {},
   "outputs": [],
   "source": [
    "sns.histplot(Country_sub_rec['RenewableE/TotalE(%)'], bins=10, kde = True)\n"
   ]
  },
  {
   "cell_type": "code",
   "execution_count": null,
   "id": "197242cd",
   "metadata": {},
   "outputs": [],
   "source": [
    "sns.histplot(Country_sub_rec['RenewableE_consumption(TJ)'], bins=10, kde = True)\n"
   ]
  },
  {
   "cell_type": "code",
   "execution_count": null,
   "id": "3a840b9c",
   "metadata": {},
   "outputs": [],
   "source": [
    "sns.histplot(Country_sub_rec['Total_final_E_consumption(TFEC)'], bins=10, kde = True)"
   ]
  },
  {
   "cell_type": "code",
   "execution_count": null,
   "id": "e851c589",
   "metadata": {},
   "outputs": [],
   "source": [
    "sns.histplot(Country_sub_rec['Renewable_E/TFEC(%)'], bins=10, kde = True)"
   ]
  },
  {
   "cell_type": "code",
   "execution_count": null,
   "id": "ae5b1010",
   "metadata": {},
   "outputs": [],
   "source": [
    "# some columns contain outliers and these values are large portion of the data set and important for the analysis therefore allow to remain and carry out the analysis with required data columns"
   ]
  },
  {
   "cell_type": "markdown",
   "id": "698bdad9",
   "metadata": {},
   "source": [
    "# Plotting a Choropleth"
   ]
  },
  {
   "cell_type": "markdown",
   "id": "b6e4a9de",
   "metadata": {},
   "source": [
    "### Country Vs Access to electracity of total population of all countries (1996-2016)"
   ]
  },
  {
   "cell_type": "code",
   "execution_count": null,
   "id": "af150dcb",
   "metadata": {},
   "outputs": [],
   "source": [
    "# Subsets for the data for the separate years\n",
    "df_REY1996 = Country_sub_rec[Country_sub_rec[\"Time\"] == 1996]"
   ]
  },
  {
   "cell_type": "code",
   "execution_count": null,
   "id": "9d56db35",
   "metadata": {},
   "outputs": [],
   "source": [
    "df_REY1996.head()"
   ]
  },
  {
   "cell_type": "code",
   "execution_count": null,
   "id": "0016215f",
   "metadata": {},
   "outputs": [],
   "source": [
    "df_REY1996.shape"
   ]
  },
  {
   "cell_type": "code",
   "execution_count": null,
   "id": "daea2016",
   "metadata": {},
   "outputs": [],
   "source": [
    "for feature in data['features']:\n",
    "    properties = feature['properties']\n",
    "    print(properties)"
   ]
  },
  {
   "cell_type": "code",
   "execution_count": null,
   "id": "42f5c325",
   "metadata": {},
   "outputs": [],
   "source": [
    "# Setup a folium map at a high-level zoom\n",
    "map1 = folium.Map(location=[100, 0], zoom_start=1.5)\n",
    "\n",
    "\n",
    "# Choropleth maps bind Pandas Data Frames and json geometries. This allows us to quickly visualize data combinations\n",
    "folium.Choropleth(\n",
    "    geo_data=country_geo, \n",
    "    data=df_REY1996,\n",
    "    columns=['Country Name', 'Access_Electracity(%)-Total_P'],\n",
    "    key_on='feature.properties.ADMIN',\n",
    "    fill_color='YlOrRd',\n",
    "    fill_opacity=0.6,\n",
    "    line_opacity=0.1,\n",
    "    legend_name=\"Total_population_Access_Electracity(%)\",\n",
    "    highlight=True,\n",
    "    nan_fill_color='gray',\n",
    "    reset=True\n",
    ").add_to(map1)\n",
    "\n",
    "folium.LayerControl().add_to(map1)\n",
    "\n",
    "map1"
   ]
  },
  {
   "cell_type": "code",
   "execution_count": null,
   "id": "3e439487",
   "metadata": {},
   "outputs": [],
   "source": [
    "# Subsets for the data for the separate years\n",
    "df_REY2001 = Country_sub_rec[Country_sub_rec[\"Time\"] == 2001]"
   ]
  },
  {
   "cell_type": "code",
   "execution_count": null,
   "id": "4c15be5d",
   "metadata": {},
   "outputs": [],
   "source": [
    "df_REY2001.head(5)"
   ]
  },
  {
   "cell_type": "code",
   "execution_count": null,
   "id": "2944fad6",
   "metadata": {},
   "outputs": [],
   "source": [
    "df_REY2001.shape"
   ]
  },
  {
   "cell_type": "code",
   "execution_count": null,
   "id": "eb6b89a7",
   "metadata": {},
   "outputs": [],
   "source": [
    "for feature in data['features']:\n",
    "    properties = feature['properties']\n",
    "    print(properties)"
   ]
  },
  {
   "cell_type": "code",
   "execution_count": null,
   "id": "4369f25c",
   "metadata": {},
   "outputs": [],
   "source": [
    "# Setup a folium map at a high-level zoom\n",
    "map2 = folium.Map(location=[100, 0], zoom_start=1.5)\n",
    "\n",
    "\n",
    "# Choropleth maps bind Pandas Data Frames and json geometries. This allows us to quickly visualize data combinations\n",
    "folium.Choropleth(\n",
    "    geo_data=country_geo, \n",
    "    data=df_REY2001,\n",
    "    columns=['Country Name', 'Access_Electracity(%)-Total_P'],\n",
    "    key_on='feature.properties.ADMIN',\n",
    "    fill_color='YlOrRd',\n",
    "    fill_opacity=0.6,\n",
    "    line_opacity=0.1,\n",
    "    legend_name=\"Total_population_Access_Electracity(%)\",\n",
    "    highlight=True,\n",
    "    nan_fill_color='gray',\n",
    "    reset=True\n",
    ").add_to(map2)\n",
    "\n",
    "folium.LayerControl().add_to(map2)\n",
    "\n",
    "map2"
   ]
  },
  {
   "cell_type": "code",
   "execution_count": null,
   "id": "5cdbe8b9",
   "metadata": {},
   "outputs": [],
   "source": [
    "# Subsets for the data for the separate years\n",
    "df_REY2006 = Country_sub_rec[Country_sub_rec[\"Time\"] == 2006]"
   ]
  },
  {
   "cell_type": "code",
   "execution_count": null,
   "id": "b06648b3",
   "metadata": {},
   "outputs": [],
   "source": [
    "df_REY2006.shape"
   ]
  },
  {
   "cell_type": "code",
   "execution_count": null,
   "id": "e3713c4e",
   "metadata": {},
   "outputs": [],
   "source": [
    "df_REY2006.head()"
   ]
  },
  {
   "cell_type": "code",
   "execution_count": null,
   "id": "9ffb7d6a",
   "metadata": {},
   "outputs": [],
   "source": [
    "for feature in data['features']:\n",
    "    properties = feature['properties']\n",
    "    print(properties)"
   ]
  },
  {
   "cell_type": "code",
   "execution_count": null,
   "id": "6ab9bc74",
   "metadata": {},
   "outputs": [],
   "source": [
    "# Setup a folium map at a high-level zoom\n",
    "map3 = folium.Map(location=[100, 0], zoom_start=1.5)\n",
    "\n",
    "\n",
    "# Choropleth maps bind Pandas Data Frames and json geometries. This allows us to quickly visualize data combinations\n",
    "folium.Choropleth(\n",
    "    geo_data=country_geo, \n",
    "    data=df_REY2006,\n",
    "    columns=['Country Name', 'Access_Electracity(%)-Total_P'],\n",
    "    key_on='feature.properties.ADMIN',\n",
    "    fill_color='YlOrRd',\n",
    "    fill_opacity=0.6,\n",
    "    line_opacity=0.1,\n",
    "    legend_name=\"Total_population_Access_Electracity(%)\",\n",
    "    highlight=True,\n",
    "    nan_fill_color='gray',\n",
    "    reset=True\n",
    ").add_to(map3)\n",
    "\n",
    "folium.LayerControl().add_to(map3)\n",
    "\n",
    "map3"
   ]
  },
  {
   "cell_type": "code",
   "execution_count": null,
   "id": "074691d2",
   "metadata": {},
   "outputs": [],
   "source": [
    "# Subsets for the data for the separate years\n",
    "df_REY2011= Country_sub_rec[Country_sub_rec[\"Time\"] == 2011]\n"
   ]
  },
  {
   "cell_type": "code",
   "execution_count": null,
   "id": "9e803d85",
   "metadata": {},
   "outputs": [],
   "source": [
    "df_REY2011.shape"
   ]
  },
  {
   "cell_type": "code",
   "execution_count": null,
   "id": "de9c0eb2",
   "metadata": {},
   "outputs": [],
   "source": [
    "df_REY2011.head(5)"
   ]
  },
  {
   "cell_type": "code",
   "execution_count": null,
   "id": "d2e98f60",
   "metadata": {},
   "outputs": [],
   "source": [
    "for feature in data['features']:\n",
    "    properties = feature['properties']\n",
    "    print(properties)"
   ]
  },
  {
   "cell_type": "code",
   "execution_count": null,
   "id": "4696adb7",
   "metadata": {},
   "outputs": [],
   "source": [
    "# Setup a folium map at a high-level zoom\n",
    "map4 = folium.Map(location=[100, 0], zoom_start=1.5)\n",
    "\n",
    "\n",
    "# Choropleth maps bind Pandas Data Frames and json geometries. This allows us to quickly visualize data combinations\n",
    "folium.Choropleth(\n",
    "    geo_data=country_geo, \n",
    "    data=df_REY2011,\n",
    "    columns=['Country Name', 'Access_Electracity(%)-Total_P'],\n",
    "    key_on='feature.properties.ADMIN',\n",
    "    fill_color='YlOrRd',\n",
    "    fill_opacity=0.6,\n",
    "    line_opacity=0.1,\n",
    "    legend_name=\"Total_population_Access_Electracity(%)\",\n",
    "    highlight=True,\n",
    "    nan_fill_color='gray',\n",
    "    reset=True\n",
    ").add_to(map4)\n",
    "\n",
    "folium.LayerControl().add_to(map4)\n",
    "\n",
    "map4"
   ]
  },
  {
   "cell_type": "code",
   "execution_count": null,
   "id": "5ba39648",
   "metadata": {},
   "outputs": [],
   "source": [
    "# Subsets for the data for the separate years\n",
    "df_REY2016 = Country_sub_rec[Country_sub_rec[\"Time\"] == 2016]\n"
   ]
  },
  {
   "cell_type": "code",
   "execution_count": null,
   "id": "3e3fa872",
   "metadata": {},
   "outputs": [],
   "source": [
    "df_REY2016.shape"
   ]
  },
  {
   "cell_type": "code",
   "execution_count": null,
   "id": "ea94b97f",
   "metadata": {},
   "outputs": [],
   "source": [
    "df_REY2016.head(5)"
   ]
  },
  {
   "cell_type": "code",
   "execution_count": null,
   "id": "e378b979",
   "metadata": {},
   "outputs": [],
   "source": [
    "for feature in data['features']:\n",
    "    properties = feature['properties']\n",
    "    print(properties)"
   ]
  },
  {
   "cell_type": "code",
   "execution_count": null,
   "id": "13e22269",
   "metadata": {
    "scrolled": true
   },
   "outputs": [],
   "source": [
    "# Setup a folium map at a high-level zoom\n",
    "map5 = folium.Map(location=[100, 0], zoom_start=1.5)\n",
    "\n",
    "\n",
    "# Choropleth maps bind Pandas Data Frames and json geometries. This allows us to quickly visualize data combinations\n",
    "folium.Choropleth(\n",
    "    geo_data=country_geo, \n",
    "    data=df_REY2016,\n",
    "    columns=['Country Name', 'Access_Electracity(%)-Total_P'],\n",
    "    key_on='feature.properties.ADMIN',\n",
    "    fill_color='YlOrRd',\n",
    "    fill_opacity=0.6,\n",
    "    line_opacity=0.1,\n",
    "    legend_name=\"Total_population_Access_Electracity(%)\",\n",
    "    highlight=True,\n",
    "    nan_fill_color='gray',\n",
    "    reset=True\n",
    ").add_to(map5)\n",
    "\n",
    "folium.LayerControl().add_to(map5)\n",
    "\n",
    "map5"
   ]
  },
  {
   "cell_type": "markdown",
   "id": "160961b6",
   "metadata": {},
   "source": [
    "### Country Vs Renewable energy Output(gwh)-  (1996-2016)"
   ]
  },
  {
   "cell_type": "code",
   "execution_count": null,
   "id": "84ff8206",
   "metadata": {},
   "outputs": [],
   "source": [
    "# Subsets for the data for the separate year\n",
    "df_REOY1996 = Country_sub_rec[Country_sub_rec[\"Time\"] == 1996]"
   ]
  },
  {
   "cell_type": "code",
   "execution_count": null,
   "id": "191232c9",
   "metadata": {},
   "outputs": [],
   "source": [
    "df_REOY1996.shape"
   ]
  },
  {
   "cell_type": "code",
   "execution_count": null,
   "id": "8420c41b",
   "metadata": {},
   "outputs": [],
   "source": [
    "df_REOY1996.head(5)"
   ]
  },
  {
   "cell_type": "code",
   "execution_count": null,
   "id": "8bb6d0f7",
   "metadata": {},
   "outputs": [],
   "source": [
    "for feature in data['features']:\n",
    "    properties = feature['properties']\n",
    "    print(properties)"
   ]
  },
  {
   "cell_type": "code",
   "execution_count": null,
   "id": "7e5974b0",
   "metadata": {},
   "outputs": [],
   "source": [
    "# Setup a folium map at a high-level zoom\n",
    "map6 = folium.Map(location=[100, 0], zoom_start=1.5)\n",
    "\n",
    "\n",
    "# Choropleth maps bind Pandas Data Frames and json geometries. This allows us to quickly visualize data combinations\n",
    "folium.Choropleth(\n",
    "    geo_data=country_geo, \n",
    "    data=df_REOY1996,\n",
    "    columns=['Country Name','RenewableEOutput(gwh)'],\n",
    "    key_on='feature.properties.ADMIN',\n",
    "    fill_color='YlOrBr',\n",
    "    fill_opacity=0.6,\n",
    "    line_opacity=0.1,\n",
    "    legend_name=\"Renewable energy Output(gwh)\",\n",
    "    highlight=True,\n",
    "    nan_fill_color='gray',\n",
    "    reset=True\n",
    ").add_to(map6)\n",
    "\n",
    "folium.LayerControl().add_to(map6)\n",
    "\n",
    "map6"
   ]
  },
  {
   "cell_type": "code",
   "execution_count": null,
   "id": "ffff3cdd",
   "metadata": {},
   "outputs": [],
   "source": [
    "# Subsets for the data for the separate year\n",
    "df_REOY2001 = Country_sub_rec[Country_sub_rec[\"Time\"] == 2001]"
   ]
  },
  {
   "cell_type": "code",
   "execution_count": null,
   "id": "e18a91e1",
   "metadata": {},
   "outputs": [],
   "source": [
    "df_REOY2001.shape"
   ]
  },
  {
   "cell_type": "code",
   "execution_count": null,
   "id": "7f4a31cf",
   "metadata": {},
   "outputs": [],
   "source": [
    "df_REOY2001.head(5)"
   ]
  },
  {
   "cell_type": "code",
   "execution_count": null,
   "id": "87664dc2",
   "metadata": {},
   "outputs": [],
   "source": [
    "for feature in data['features']:\n",
    "    properties = feature['properties']\n",
    "    print(properties)"
   ]
  },
  {
   "cell_type": "code",
   "execution_count": null,
   "id": "9493a727",
   "metadata": {},
   "outputs": [],
   "source": [
    "# Setup a folium map at a high-level zoom\n",
    "map7 = folium.Map(location=[100, 0], zoom_start=1.5)\n",
    "\n",
    "\n",
    "# Choropleth maps bind Pandas Data Frames and json geometries. This allows us to quickly visualize data combinations\n",
    "folium.Choropleth(\n",
    "    geo_data=country_geo, \n",
    "    data=df_REOY2001,\n",
    "    columns=['Country Name', 'RenewableEOutput(gwh)'],\n",
    "    key_on='feature.properties.ADMIN',\n",
    "    fill_color='YlOrBr',\n",
    "    fill_opacity=0.6,\n",
    "    line_opacity=0.1,\n",
    "    legend_name=\"Renewable energy Output(gwh)\",\n",
    "    highlight=True,\n",
    "    nan_fill_color='gray',\n",
    "    reset=True\n",
    ").add_to(map7)\n",
    "\n",
    "folium.LayerControl().add_to(map7)\n",
    "\n",
    "map7"
   ]
  },
  {
   "cell_type": "code",
   "execution_count": null,
   "id": "5a258516",
   "metadata": {},
   "outputs": [],
   "source": [
    "# Subsets for the data for the separate year\n",
    "df_REOY2006 = Country_sub_rec[Country_sub_rec[\"Time\"] == 2006]"
   ]
  },
  {
   "cell_type": "code",
   "execution_count": null,
   "id": "78480d6b",
   "metadata": {},
   "outputs": [],
   "source": [
    "df_REOY2006.shape"
   ]
  },
  {
   "cell_type": "code",
   "execution_count": null,
   "id": "f45e3ecc",
   "metadata": {},
   "outputs": [],
   "source": [
    "df_REOY2006.head(5)"
   ]
  },
  {
   "cell_type": "code",
   "execution_count": null,
   "id": "c3065afc",
   "metadata": {},
   "outputs": [],
   "source": [
    "for feature in data['features']:\n",
    "    properties = feature['properties']\n",
    "    print(properties)"
   ]
  },
  {
   "cell_type": "code",
   "execution_count": null,
   "id": "82185d71",
   "metadata": {},
   "outputs": [],
   "source": [
    "# Setup a folium map at a high-level zoom\n",
    "map8 = folium.Map(location=[100, 0], zoom_start=1.5)\n",
    "\n",
    "\n",
    "# Choropleth maps bind Pandas Data Frames and json geometries. This allows us to quickly visualize data combinations\n",
    "folium.Choropleth(\n",
    "    geo_data=country_geo, \n",
    "    data=df_REOY2006,\n",
    "    columns=['Country Name', 'RenewableEOutput(gwh)'],\n",
    "    key_on='feature.properties.ADMIN',\n",
    "    fill_color='YlOrBr',\n",
    "    fill_opacity=0.6,\n",
    "    line_opacity=0.1,\n",
    "    legend_name=\"Renewable energy Output(gwh)\",\n",
    "    highlight=True,\n",
    "    nan_fill_color='gray',\n",
    "    reset=True\n",
    ").add_to(map8)\n",
    "\n",
    "folium.LayerControl().add_to(map8)\n",
    "\n",
    "map8"
   ]
  },
  {
   "cell_type": "code",
   "execution_count": null,
   "id": "5edd8e1a",
   "metadata": {},
   "outputs": [],
   "source": [
    "# Subsets for the data for the separate year\n",
    "df_REOY2011 = Country_sub_rec[Country_sub_rec[\"Time\"] == 2011]"
   ]
  },
  {
   "cell_type": "code",
   "execution_count": null,
   "id": "ef29844c",
   "metadata": {},
   "outputs": [],
   "source": [
    "df_REOY2011.shape"
   ]
  },
  {
   "cell_type": "code",
   "execution_count": null,
   "id": "525dd6c4",
   "metadata": {},
   "outputs": [],
   "source": [
    "df_REOY2011.head(5)"
   ]
  },
  {
   "cell_type": "code",
   "execution_count": null,
   "id": "c52139dc",
   "metadata": {},
   "outputs": [],
   "source": [
    "for feature in data['features']:\n",
    "    properties = feature['properties']\n",
    "    print(properties)"
   ]
  },
  {
   "cell_type": "code",
   "execution_count": null,
   "id": "e4afc431",
   "metadata": {},
   "outputs": [],
   "source": [
    "# Setup a folium map at a high-level zoom\n",
    "map9 = folium.Map(location=[100, 0], zoom_start=1.5)\n",
    "\n",
    "\n",
    "# Choropleth maps bind Pandas Data Frames and json geometries. This allows us to quickly visualize data combinations\n",
    "folium.Choropleth(\n",
    "    geo_data=country_geo, \n",
    "    data=df_REOY2011,\n",
    "    columns=['Country Name', 'RenewableEOutput(gwh)'],\n",
    "    key_on='feature.properties.ADMIN',\n",
    "    fill_color='YlOrBr',\n",
    "    fill_opacity=0.6,\n",
    "    line_opacity=0.1,\n",
    "    legend_name=\"Renewable energy Output(gwh)\",\n",
    "    highlight=True,\n",
    "    nan_fill_color='gray',\n",
    "    reset=True\n",
    ").add_to(map9)\n",
    "\n",
    "folium.LayerControl().add_to(map9)\n",
    "\n",
    "map9"
   ]
  },
  {
   "cell_type": "code",
   "execution_count": null,
   "id": "240ad02d",
   "metadata": {},
   "outputs": [],
   "source": [
    "# Subsets for the data for the separate year\n",
    "df_REOY2016 = Country_sub_rec[Country_sub_rec[\"Time\"] == 2016]"
   ]
  },
  {
   "cell_type": "code",
   "execution_count": null,
   "id": "2b5d6ff1",
   "metadata": {},
   "outputs": [],
   "source": [
    "df_REOY2016.shape"
   ]
  },
  {
   "cell_type": "code",
   "execution_count": null,
   "id": "8dad5346",
   "metadata": {},
   "outputs": [],
   "source": [
    "df_REOY2016.head(5)"
   ]
  },
  {
   "cell_type": "code",
   "execution_count": null,
   "id": "36a44712",
   "metadata": {},
   "outputs": [],
   "source": [
    "for feature in data['features']:\n",
    "    properties = feature['properties']\n",
    "    print(properties)"
   ]
  },
  {
   "cell_type": "code",
   "execution_count": null,
   "id": "98ce7bcf",
   "metadata": {},
   "outputs": [],
   "source": [
    "# Setup a folium map at a high-level zoom\n",
    "map10 = folium.Map(location=[100, 0], zoom_start=1.5)\n",
    "\n",
    "\n",
    "# Choropleth maps bind Pandas Data Frames and json geometries. This allows us to quickly visualize data combinations\n",
    "folium.Choropleth(\n",
    "    geo_data=country_geo, \n",
    "    data=df_REOY2016,\n",
    "    columns=['Country Name', 'RenewableEOutput(gwh)'],\n",
    "    key_on='feature.properties.ADMIN',\n",
    "    fill_color='YlOrBr',\n",
    "    fill_opacity=0.6,\n",
    "    line_opacity=0.1,\n",
    "    legend_name=\"Renewable energy Output(gwh)\",\n",
    "    highlight=True,\n",
    "    nan_fill_color='gray',\n",
    "    reset=True\n",
    ").add_to(map10)\n",
    "\n",
    "folium.LayerControl().add_to(map10)\n",
    "\n",
    "map10"
   ]
  },
  {
   "cell_type": "markdown",
   "id": "563096c0",
   "metadata": {},
   "source": [
    "### Country Vs Renewable Energy consumption(TJ) - (1996-2016)"
   ]
  },
  {
   "cell_type": "code",
   "execution_count": null,
   "id": "c27dcbe2",
   "metadata": {},
   "outputs": [],
   "source": [
    "# Subsets for the data for separate year\n",
    "df_RECY1996 = Country_sub_rec[Country_sub_rec[\"Time\"] == 1996]"
   ]
  },
  {
   "cell_type": "code",
   "execution_count": null,
   "id": "7a8a4b51",
   "metadata": {},
   "outputs": [],
   "source": [
    "df_RECY1996.shape"
   ]
  },
  {
   "cell_type": "code",
   "execution_count": null,
   "id": "e6c9880a",
   "metadata": {},
   "outputs": [],
   "source": [
    "df_RECY1996.head(2)"
   ]
  },
  {
   "cell_type": "code",
   "execution_count": null,
   "id": "0b90717e",
   "metadata": {},
   "outputs": [],
   "source": [
    "for feature in data['features']:\n",
    "    properties = feature['properties']\n",
    "    print(properties)"
   ]
  },
  {
   "cell_type": "code",
   "execution_count": null,
   "id": "95971d0c",
   "metadata": {},
   "outputs": [],
   "source": [
    "# Setup a folium map at a high-level zoom\n",
    "map11 = folium.Map(location=[100, 0], zoom_start=1.5)\n",
    "\n",
    "\n",
    "# Choropleth maps bind Pandas Data Frames and json geometries. This allows us to quickly visualize data combinations\n",
    "folium.Choropleth(\n",
    "    geo_data=country_geo, \n",
    "    data=df_RECY1996,\n",
    "    columns=['Country Name', 'RenewableE_consumption(TJ)'],\n",
    "    key_on='feature.properties.ADMIN',\n",
    "    fill_color='YlOrBr',\n",
    "    fill_opacity=0.6,\n",
    "    line_opacity=0.1,\n",
    "    legend_name=\"Renewable Energy consumption(TJ)\",\n",
    "    highlight=True,\n",
    "    nan_fill_color='gray',\n",
    "    reset=True\n",
    ").add_to(map11)\n",
    "\n",
    "folium.LayerControl().add_to(map11)\n",
    "\n",
    "map11"
   ]
  },
  {
   "cell_type": "code",
   "execution_count": null,
   "id": "56bac82f",
   "metadata": {},
   "outputs": [],
   "source": [
    "# Subsets for the data for the separate year\n",
    "df_RECY2001 = Country_sub_rec[Country_sub_rec[\"Time\"] == 2001]"
   ]
  },
  {
   "cell_type": "code",
   "execution_count": null,
   "id": "d7965bec",
   "metadata": {},
   "outputs": [],
   "source": [
    "df_RECY2001.shape"
   ]
  },
  {
   "cell_type": "code",
   "execution_count": null,
   "id": "a717cfd4",
   "metadata": {},
   "outputs": [],
   "source": [
    "df_RECY2001.head(2)"
   ]
  },
  {
   "cell_type": "code",
   "execution_count": null,
   "id": "cac0c9d4",
   "metadata": {},
   "outputs": [],
   "source": [
    "for feature in data['features']:\n",
    "    properties = feature['properties']\n",
    "    print(properties)"
   ]
  },
  {
   "cell_type": "code",
   "execution_count": null,
   "id": "1ddc89c1",
   "metadata": {},
   "outputs": [],
   "source": [
    "# Setup a folium map at a high-level zoom\n",
    "map12 = folium.Map(location=[100, 0], zoom_start=1.5)\n",
    "\n",
    "\n",
    "# Choropleth maps bind Pandas Data Frames and json geometries. This allows us to quickly visualize data combinations\n",
    "folium.Choropleth(\n",
    "    geo_data=country_geo, \n",
    "    data=df_RECY2001,\n",
    "    columns=['Country Name', 'RenewableE_consumption(TJ)'],\n",
    "    key_on='feature.properties.ADMIN',\n",
    "    fill_color='YlOrBr',\n",
    "    fill_opacity=0.6,\n",
    "    line_opacity=0.1,\n",
    "    legend_name=\"Renewable Energy consumption(TJ)\",\n",
    "    highlight=True,\n",
    "    nan_fill_color='gray',\n",
    "    reset=True\n",
    ").add_to(map12)\n",
    "\n",
    "folium.LayerControl().add_to(map12)\n",
    "\n",
    "map12"
   ]
  },
  {
   "cell_type": "code",
   "execution_count": null,
   "id": "9d040ded",
   "metadata": {},
   "outputs": [],
   "source": [
    "# Subsets for the data for the separate year\n",
    "df_RECY2006 = Country_sub_rec[Country_sub_rec[\"Time\"] == 2006]"
   ]
  },
  {
   "cell_type": "code",
   "execution_count": null,
   "id": "ae0bfd9e",
   "metadata": {},
   "outputs": [],
   "source": [
    "df_RECY2006.shape"
   ]
  },
  {
   "cell_type": "code",
   "execution_count": null,
   "id": "04388a63",
   "metadata": {},
   "outputs": [],
   "source": [
    "df_RECY2006.head(2)"
   ]
  },
  {
   "cell_type": "code",
   "execution_count": null,
   "id": "f647eb08",
   "metadata": {},
   "outputs": [],
   "source": [
    "for feature in data['features']:\n",
    "    properties = feature['properties']\n",
    "    print(properties)"
   ]
  },
  {
   "cell_type": "code",
   "execution_count": null,
   "id": "d4f8acfb",
   "metadata": {},
   "outputs": [],
   "source": [
    "# Setup a folium map at a high-level zoom\n",
    "map13 = folium.Map(location=[100, 0], zoom_start=1.5)\n",
    "\n",
    "\n",
    "# Choropleth maps bind Pandas Data Frames and json geometries. This allows us to quickly visualize data combinations\n",
    "folium.Choropleth(\n",
    "    geo_data=country_geo, \n",
    "    data=df_RECY2006,\n",
    "    columns=['Country Name', 'RenewableE_consumption(TJ)'],\n",
    "    key_on='feature.properties.ADMIN',\n",
    "    fill_color='YlOrBr',\n",
    "    fill_opacity=0.6,\n",
    "    line_opacity=0.1,\n",
    "    legend_name=\"Renewable Energy consumption(TJ)\",\n",
    "    highlight=True,\n",
    "    nan_fill_color='gray',\n",
    "    reset=True\n",
    ").add_to(map13)\n",
    "\n",
    "folium.LayerControl().add_to(map13)\n",
    "\n",
    "map13"
   ]
  },
  {
   "cell_type": "code",
   "execution_count": null,
   "id": "2cffec7a",
   "metadata": {},
   "outputs": [],
   "source": [
    "# Subsets for the data for the separate year\n",
    "df_RECY2011 = Country_sub_rec[Country_sub_rec[\"Time\"] == 2011]"
   ]
  },
  {
   "cell_type": "code",
   "execution_count": null,
   "id": "87b441ff",
   "metadata": {},
   "outputs": [],
   "source": [
    "df_RECY2011.shape"
   ]
  },
  {
   "cell_type": "code",
   "execution_count": null,
   "id": "90d808c1",
   "metadata": {},
   "outputs": [],
   "source": [
    "df_RECY2011.head(2)"
   ]
  },
  {
   "cell_type": "code",
   "execution_count": null,
   "id": "b89a2aa5",
   "metadata": {},
   "outputs": [],
   "source": [
    "for feature in data['features']:\n",
    "    properties = feature['properties']\n",
    "    print(properties)"
   ]
  },
  {
   "cell_type": "code",
   "execution_count": null,
   "id": "b2f7e713",
   "metadata": {},
   "outputs": [],
   "source": [
    "# Setup a folium map at a high-level zoom\n",
    "map14 = folium.Map(location=[100, 0], zoom_start=1.5)\n",
    "\n",
    "\n",
    "# Choropleth maps bind Pandas Data Frames and json geometries. This allows us to quickly visualize data combinations\n",
    "folium.Choropleth(\n",
    "    geo_data=country_geo, \n",
    "    data=df_RECY2011,\n",
    "    columns=['Country Name', 'RenewableE_consumption(TJ)'],\n",
    "    key_on='feature.properties.ADMIN',\n",
    "    fill_color='YlOrBr',\n",
    "    fill_opacity=0.6,\n",
    "    line_opacity=0.1,\n",
    "    legend_name=\"Renewable Energy consumption(TJ)\",\n",
    "    highlight=True,\n",
    "    nan_fill_color='gray',\n",
    "    reset=True\n",
    ").add_to(map14)\n",
    "\n",
    "folium.LayerControl().add_to(map14)\n",
    "\n",
    "map14"
   ]
  },
  {
   "cell_type": "code",
   "execution_count": null,
   "id": "98ffb0dc",
   "metadata": {},
   "outputs": [],
   "source": [
    "# Subsets for the data for the separate year\n",
    "df_RECY2016 = Country_sub_rec[Country_sub_rec[\"Time\"] == 2016]"
   ]
  },
  {
   "cell_type": "code",
   "execution_count": null,
   "id": "9461a701",
   "metadata": {},
   "outputs": [],
   "source": [
    "df_RECY2016.shape"
   ]
  },
  {
   "cell_type": "code",
   "execution_count": null,
   "id": "caf16a39",
   "metadata": {},
   "outputs": [],
   "source": [
    "df_RECY2016.head(2)"
   ]
  },
  {
   "cell_type": "code",
   "execution_count": null,
   "id": "d25cc0fd",
   "metadata": {},
   "outputs": [],
   "source": [
    "for feature in data['features']:\n",
    "    properties = feature['properties']\n",
    "    print(properties)"
   ]
  },
  {
   "cell_type": "code",
   "execution_count": null,
   "id": "e76ef927",
   "metadata": {},
   "outputs": [],
   "source": [
    "# Setup a folium map at a high-level zoom\n",
    "map15 = folium.Map(location=[100, 0], zoom_start=1.5)\n",
    "\n",
    "\n",
    "# Choropleth maps bind Pandas Data Frames and json geometries. This allows us to quickly visualize data combinations\n",
    "folium.Choropleth(\n",
    "    geo_data=country_geo, \n",
    "    data=df_RECY2016,\n",
    "    columns=['Country Name', 'RenewableE_consumption(TJ)'],\n",
    "    key_on='feature.properties.ADMIN',\n",
    "    fill_color='YlOrBr',\n",
    "    fill_opacity=0.6,\n",
    "    line_opacity=0.1,\n",
    "    legend_name=\"Renewable Energy consumption(TJ)\",\n",
    "    highlight=True,\n",
    "    nan_fill_color='gray',\n",
    "    reset=True\n",
    ").add_to(map15)\n",
    "\n",
    "folium.LayerControl().add_to(map15)\n",
    "\n",
    "map15"
   ]
  },
  {
   "cell_type": "markdown",
   "id": "0f0d51aa",
   "metadata": {},
   "source": [
    "### Country Vs Renewable_E/TFEC(%) - (1996-2016)"
   ]
  },
  {
   "cell_type": "code",
   "execution_count": null,
   "id": "3b1e9301",
   "metadata": {},
   "outputs": [],
   "source": [
    "# Subsets for the data for the separate year\n",
    "df_RE_TCY1996 = Country_sub_rec[Country_sub_rec[\"Time\"] == 1996]"
   ]
  },
  {
   "cell_type": "code",
   "execution_count": null,
   "id": "c054248b",
   "metadata": {},
   "outputs": [],
   "source": [
    "df_RE_TCY1996.shape"
   ]
  },
  {
   "cell_type": "code",
   "execution_count": null,
   "id": "00ed9f87",
   "metadata": {},
   "outputs": [],
   "source": [
    "df_RE_TCY1996.head(2)"
   ]
  },
  {
   "cell_type": "code",
   "execution_count": null,
   "id": "08e987d5",
   "metadata": {},
   "outputs": [],
   "source": [
    "# Setup a folium map at a high-level zoom\n",
    "map16 = folium.Map(location=[100, 0], zoom_start=1.5)\n",
    "\n",
    "\n",
    "# Choropleth maps bind Pandas Data Frames and json geometries. This allows us to quickly visualize data combinations\n",
    "folium.Choropleth(\n",
    "    geo_data=country_geo, \n",
    "    data=df_RE_TCY1996,\n",
    "    columns=['Country Name', 'RenewableE/TotalE(%)'],\n",
    "    key_on='feature.properties.ADMIN',\n",
    "    fill_color='RdPu',\n",
    "    fill_opacity=0.6,\n",
    "    line_opacity=0.1,\n",
    "    legend_name=\"Renewable energy Output/Total energy output(TJ)(%)\",\n",
    "    highlight=True,\n",
    "    nan_fill_color='gray',\n",
    "    reset=True\n",
    ").add_to(map16)\n",
    "\n",
    "folium.LayerControl().add_to(map16)\n",
    "\n",
    "map16"
   ]
  },
  {
   "cell_type": "code",
   "execution_count": null,
   "id": "865eedef",
   "metadata": {},
   "outputs": [],
   "source": []
  },
  {
   "cell_type": "code",
   "execution_count": null,
   "id": "0939ac01",
   "metadata": {},
   "outputs": [],
   "source": [
    "# Subsets for the data for the separate year\n",
    "df_RE_TCY2001 = Country_sub_rec[Country_sub_rec[\"Time\"] == 2001]"
   ]
  },
  {
   "cell_type": "code",
   "execution_count": null,
   "id": "6dadb21d",
   "metadata": {},
   "outputs": [],
   "source": [
    "df_RE_TCY2001.shape"
   ]
  },
  {
   "cell_type": "code",
   "execution_count": null,
   "id": "df7b2967",
   "metadata": {},
   "outputs": [],
   "source": [
    "df_RE_TCY2001.head(2)"
   ]
  },
  {
   "cell_type": "code",
   "execution_count": null,
   "id": "2fcc6b64",
   "metadata": {},
   "outputs": [],
   "source": [
    "for feature in data['features']:\n",
    "    properties = feature['properties']\n",
    "    print(properties)"
   ]
  },
  {
   "cell_type": "code",
   "execution_count": null,
   "id": "75fa3898",
   "metadata": {},
   "outputs": [],
   "source": [
    "# Setup a folium map at a high-level zoom\n",
    "map17 = folium.Map(location=[100, 0], zoom_start=1.5)\n",
    "\n",
    "\n",
    "# Choropleth maps bind Pandas Data Frames and json geometries. This allows us to quickly visualize data combinations\n",
    "folium.Choropleth(\n",
    "    geo_data=country_geo, \n",
    "    data=df_RE_TCY2001,\n",
    "    columns=['Country Name', 'RenewableE/TotalE(%)'],\n",
    "    key_on='feature.properties.ADMIN',\n",
    "    fill_color='RdPu',\n",
    "    fill_opacity=0.6,\n",
    "    line_opacity=0.1,\n",
    "    legend_name=\"Renewable energy Output/Total energy output(TJ)(%)\",\n",
    "    highlight=True,\n",
    "    nan_fill_color='gray',\n",
    "    reset=True\n",
    ").add_to(map17)\n",
    "\n",
    "folium.LayerControl().add_to(map17)\n",
    "\n",
    "map17"
   ]
  },
  {
   "cell_type": "code",
   "execution_count": null,
   "id": "ad494f4f",
   "metadata": {},
   "outputs": [],
   "source": [
    "# Subsets for the data for the separate year\n",
    "df_RE_TCY2006 = Country_sub_rec[Country_sub_rec[\"Time\"] == 2006]"
   ]
  },
  {
   "cell_type": "code",
   "execution_count": null,
   "id": "275fc612",
   "metadata": {},
   "outputs": [],
   "source": [
    "df_RE_TCY2006.shape"
   ]
  },
  {
   "cell_type": "code",
   "execution_count": null,
   "id": "f62488cd",
   "metadata": {},
   "outputs": [],
   "source": [
    "df_RE_TCY2006.head(2)"
   ]
  },
  {
   "cell_type": "code",
   "execution_count": null,
   "id": "087f15eb",
   "metadata": {},
   "outputs": [],
   "source": [
    "for feature in data['features']:\n",
    "    properties = feature['properties']\n",
    "    print(properties)"
   ]
  },
  {
   "cell_type": "code",
   "execution_count": null,
   "id": "d923f108",
   "metadata": {},
   "outputs": [],
   "source": [
    "# Setup a folium map at a high-level zoom\n",
    "map18 = folium.Map(location=[100, 0], zoom_start=1.5)\n",
    "\n",
    "\n",
    "# Choropleth maps bind Pandas Data Frames and json geometries. This allows us to quickly visualize data combinations\n",
    "folium.Choropleth(\n",
    "    geo_data=country_geo, \n",
    "    data=df_RE_TCY2006,\n",
    "    columns=['Country Name', 'RenewableE/TotalE(%)'],\n",
    "    key_on='feature.properties.ADMIN',\n",
    "    fill_color='RdPu',\n",
    "    fill_opacity=0.6,\n",
    "    line_opacity=0.1,\n",
    "    legend_name=\"Renewable energy Output/Total energy output(TJ)(%)\",\n",
    "    highlight=True,\n",
    "    nan_fill_color='gray',\n",
    "    reset=True\n",
    ").add_to(map18)\n",
    "\n",
    "folium.LayerControl().add_to(map18)\n",
    "\n",
    "map18"
   ]
  },
  {
   "cell_type": "code",
   "execution_count": null,
   "id": "8d746e6c",
   "metadata": {},
   "outputs": [],
   "source": []
  },
  {
   "cell_type": "code",
   "execution_count": null,
   "id": "790279d8",
   "metadata": {},
   "outputs": [],
   "source": [
    "# Subsets for the data for the separate year\n",
    "df_RE_TCY2011 = Country_sub_rec[Country_sub_rec[\"Time\"] == 2011]"
   ]
  },
  {
   "cell_type": "code",
   "execution_count": null,
   "id": "842c9f2a",
   "metadata": {},
   "outputs": [],
   "source": [
    "df_RE_TCY2011.shape"
   ]
  },
  {
   "cell_type": "code",
   "execution_count": null,
   "id": "7570c338",
   "metadata": {},
   "outputs": [],
   "source": [
    "df_RE_TCY2011.head(2)"
   ]
  },
  {
   "cell_type": "code",
   "execution_count": null,
   "id": "314553d1",
   "metadata": {},
   "outputs": [],
   "source": [
    "for feature in data['features']:\n",
    "    properties = feature['properties']\n",
    "    print(properties)"
   ]
  },
  {
   "cell_type": "code",
   "execution_count": null,
   "id": "1202e389",
   "metadata": {},
   "outputs": [],
   "source": [
    "# Setup a folium map at a high-level zoom\n",
    "map19 = folium.Map(location=[100, 0], zoom_start=1.5)\n",
    "\n",
    "\n",
    "# Choropleth maps bind Pandas Data Frames and json geometries. This allows us to quickly visualize data combinations\n",
    "folium.Choropleth(\n",
    "    geo_data=country_geo, \n",
    "    data=df_RE_TCY2011,\n",
    "    columns=['Country Name', 'RenewableE/TotalE(%)'],\n",
    "    key_on='feature.properties.ADMIN',\n",
    "    fill_color='RdPu',\n",
    "    fill_opacity=0.6,\n",
    "    line_opacity=0.1,\n",
    "    legend_name=\"Renewable energy Output/Total energy output(TJ)(%)\",\n",
    "    highlight=True,\n",
    "    nan_fill_color='gray',\n",
    "    reset=True\n",
    ").add_to(map19)\n",
    "\n",
    "folium.LayerControl().add_to(map19)\n",
    "\n",
    "map19"
   ]
  },
  {
   "cell_type": "code",
   "execution_count": null,
   "id": "498ddae7",
   "metadata": {},
   "outputs": [],
   "source": [
    "# Subsets for the data for the separate year\n",
    "df_RE_TCY2016 = Country_sub_rec[Country_sub_rec[\"Time\"] == 2016]"
   ]
  },
  {
   "cell_type": "code",
   "execution_count": null,
   "id": "bf098395",
   "metadata": {},
   "outputs": [],
   "source": [
    "df_RE_TCY2016.shape"
   ]
  },
  {
   "cell_type": "code",
   "execution_count": null,
   "id": "d0767e8b",
   "metadata": {},
   "outputs": [],
   "source": [
    "df_RE_TCY2016.head(2)"
   ]
  },
  {
   "cell_type": "code",
   "execution_count": null,
   "id": "3fc760fd",
   "metadata": {},
   "outputs": [],
   "source": [
    "for feature in data['features']:\n",
    "    properties = feature['properties']\n",
    "    print(properties)"
   ]
  },
  {
   "cell_type": "code",
   "execution_count": null,
   "id": "093372d4",
   "metadata": {},
   "outputs": [],
   "source": [
    "# Setup a folium map at a high-level zoom\n",
    "map20 = folium.Map(location=[100, 0], zoom_start=1.5)\n",
    "\n",
    "\n",
    "# Choropleth maps bind Pandas Data Frames and json geometries. This allows us to quickly visualize data combinations\n",
    "folium.Choropleth(\n",
    "    geo_data=country_geo, \n",
    "    data=df_RE_TCY2016,\n",
    "    columns=['Country Name', 'RenewableE/TotalE(%)'],\n",
    "    key_on='feature.properties.ADMIN',\n",
    "    fill_color='RdPu',\n",
    "    fill_opacity=0.6,\n",
    "    line_opacity=0.1,\n",
    "    legend_name=\"Renewable energy Output/Total energy output(TJ)(%)\",\n",
    "    highlight=True,\n",
    "    nan_fill_color='gray',\n",
    "    reset=True\n",
    ").add_to(map20)\n",
    "\n",
    "folium.LayerControl().add_to(map20)\n",
    "\n",
    "map20"
   ]
  },
  {
   "cell_type": "code",
   "execution_count": null,
   "id": "f32f67ec",
   "metadata": {},
   "outputs": [],
   "source": [
    "map1.save('plot_data.html')"
   ]
  },
  {
   "cell_type": "code",
   "execution_count": null,
   "id": "1bfec611",
   "metadata": {},
   "outputs": [],
   "source": [
    "map2.save('plot_data.html')"
   ]
  },
  {
   "cell_type": "code",
   "execution_count": null,
   "id": "23f9760d",
   "metadata": {},
   "outputs": [],
   "source": [
    "map3.save('plot_data.html')\n",
    "map4.save('plot_data.html')\n",
    "map5.save('plot_data.html')\n",
    "map6.save('plot_data.html')\n",
    "map7.save('plot_data.html')\n",
    "map8.save('plot_data.html')\n",
    "map9.save('plot_data.html')\n",
    "map10.save('plot_data.html')\n",
    "map11.save('plot_data.html')\n",
    "map12.save('plot_data.html')\n",
    "map13.save('plot_data.html')\n",
    "map14.save('plot_data.html')\n",
    "map15.save('plot_data.html')\n",
    "map16.save('plot_data.html')\n",
    "map17.save('plot_data.html')\n",
    "map18.save('plot_data.html')\n",
    "map19.save('plot_data.html')\n",
    "map20.save('plot_data.html')"
   ]
  },
  {
   "cell_type": "code",
   "execution_count": null,
   "id": "4dd62c9d",
   "metadata": {},
   "outputs": [],
   "source": [
    "Country_sub_rec.columns"
   ]
  },
  {
   "cell_type": "markdown",
   "id": "6ad254cf",
   "metadata": {},
   "source": [
    "##### Rankng country with total highest electricity coverage and Renewable energy output from lowest to highest "
   ]
  },
  {
   "cell_type": "code",
   "execution_count": null,
   "id": "85fd2e79",
   "metadata": {},
   "outputs": [],
   "source": [
    "\n",
    "mincoverage = Country_sub_rec.groupby('Country Name').agg({'Access_Electracity(%)-Total_P' : max}).sort_values(by='Access_Electracity(%)-Total_P')"
   ]
  },
  {
   "cell_type": "code",
   "execution_count": null,
   "id": "efc54c60",
   "metadata": {},
   "outputs": [],
   "source": [
    "country_min_cover= mincoverage[['Access_Electracity(%)-Total_P']]"
   ]
  },
  {
   "cell_type": "code",
   "execution_count": null,
   "id": "11d38421",
   "metadata": {},
   "outputs": [],
   "source": [
    "country_min_cover.head(33)"
   ]
  },
  {
   "cell_type": "code",
   "execution_count": null,
   "id": "559c9102",
   "metadata": {
    "scrolled": true
   },
   "outputs": [],
   "source": [
    "country_min_cover.tail(10)"
   ]
  },
  {
   "cell_type": "code",
   "execution_count": null,
   "id": "4979a07d",
   "metadata": {},
   "outputs": [],
   "source": [
    "\n",
    "minREoutput = Country_sub_rec.groupby('Country Name').agg({'RenewableEOutput(gwh)' : max}).sort_values(by='RenewableEOutput(gwh)')"
   ]
  },
  {
   "cell_type": "code",
   "execution_count": null,
   "id": "79b17c14",
   "metadata": {},
   "outputs": [],
   "source": [
    "minREoutput=minREoutput[['RenewableEOutput(gwh)']] "
   ]
  },
  {
   "cell_type": "code",
   "execution_count": null,
   "id": "3894a007",
   "metadata": {},
   "outputs": [],
   "source": [
    "minREoutput.shape"
   ]
  },
  {
   "cell_type": "code",
   "execution_count": null,
   "id": "6bb9690d",
   "metadata": {
    "scrolled": true
   },
   "outputs": [],
   "source": [
    "minREoutput.head(53)"
   ]
  },
  {
   "cell_type": "code",
   "execution_count": null,
   "id": "cfa2822e",
   "metadata": {},
   "outputs": [],
   "source": [
    "minREoutput.tail(10)"
   ]
  },
  {
   "cell_type": "code",
   "execution_count": null,
   "id": "00c6fcf4",
   "metadata": {},
   "outputs": [],
   "source": []
  }
 ],
 "metadata": {
  "kernelspec": {
   "display_name": "Python 3 (ipykernel)",
   "language": "python",
   "name": "python3"
  },
  "language_info": {
   "codemirror_mode": {
    "name": "ipython",
    "version": 3
   },
   "file_extension": ".py",
   "mimetype": "text/x-python",
   "name": "python",
   "nbconvert_exporter": "python",
   "pygments_lexer": "ipython3",
   "version": "3.9.13"
  }
 },
 "nbformat": 4,
 "nbformat_minor": 5
}
